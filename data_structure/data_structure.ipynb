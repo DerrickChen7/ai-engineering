{
 "cells": [
  {
   "cell_type": "code",
   "execution_count": null,
   "id": "736bc32b",
   "metadata": {},
   "outputs": [],
   "source": [
    "# Here are the main built-in data types in Python:\n",
    "\n",
    "# int: Integer numbers (e.g., 5, -3)\n",
    "# float: Floating-point numbers (e.g., 3.14, -0.5)\n",
    "# str: String/text (e.g., \"hello\")\n",
    "# bool: Boolean (True or False)\n",
    "# list: Ordered, mutable sequence (e.g., [1, 2, 3])\n",
    "# tuple: Ordered, immutable sequence (e.g., (1, 2, 3))\n",
    "# dict: Dictionary, key-value pairs (e.g., {\"a\": 1, \"b\": 2})\n",
    "# set: Unordered collection of unique elements (e.g., {1, 2, 3})\n",
    "# NoneType: Special type for None"
   ]
  },
  {
   "cell_type": "code",
   "execution_count": null,
   "id": "a66b756c",
   "metadata": {},
   "outputs": [],
   "source": [
    "######List######\n",
    "\n",
    "# Create a 2D array with m rows and n columns\n",
    "\n",
    "m = 3  # number of rows\n",
    "n = 4  # number of columns\n",
    "two_d_array = [[5] * n for _ in range(m)]\n",
    "\n",
    "\n",
    "# append, note no add method is supported\n",
    "my_list = [1, 2, 3]\n",
    "my_list.append(4)\n",
    "\n",
    "# loop\n",
    "numbers = [1,2,3,4]\n",
    "for number in numbers:\n",
    "    print(number)\n",
    "\n",
    "# loop with index: index starts from 0 and goes to len-1\n",
    "for index, number in enumerate(numbers):\n",
    "    print(index)\n",
    "    print(number)\n",
    "\n",
    "# reverse numbers:\n",
    "## option1:\n",
    "### This is faster than [::-1], [::-1] copies the whole array\n",
    "for number in reversed(numbers):\n",
    "    print(number)\n",
    "\n",
    "## option2:\n",
    "# The first colon : means \"take all elements\".\n",
    "# The second colon : introduces the step.\n",
    "# -1 means \"step backwards\", so it reverses the list.\n",
    "for number in numbers[::-1]:\n",
    "    print(number)\n",
    "\n",
    "## option3:  reverse traversal\n",
    "for i in range(len(numbers)-1, -1, -1):\n",
    "    print(numbers[i])\n",
    "\n",
    "#### There are more #####\n",
    "\n",
    "#insert to the specified position\n",
    "numbers.insert(0, 12)\n",
    "# Output: [12, 1, 2, 3, 4]\n",
    "\n",
    "numbers.sort()  # Sorts the list in place (ascending order)\n",
    "\n",
    "numbers.sort(reverse=True)  # Sorts the list in place (descending order)\n",
    "\n",
    "numbers = sorted(numbers)  # Returns a new sorted list (ascending), original list unchanged\n",
    "\n",
    "# ===== extend =====\n",
    "original_list = [1, 2, 3]\n",
    "additional_elements = [4, 5, 6]\n",
    "original_list.extend(additional_elements)\n",
    "print(original_list)\n",
    "# Output: [1, 2, 3, 4, 5, 6]\n",
    "\n",
    "list_name.append(element)"
   ]
  },
  {
   "cell_type": "code",
   "execution_count": 58,
   "id": "a567d218",
   "metadata": {},
   "outputs": [
    {
     "data": {
      "text/plain": [
       "'hello'"
      ]
     },
     "execution_count": 58,
     "metadata": {},
     "output_type": "execute_result"
    }
   ],
   "source": [
    "#### Stack Example ####\n",
    "# A stack is a data structure that follows the Last In First Out (LIFO) principle\n",
    "# Python's list can be used as a stack\n",
    "stack = []\n",
    "\n",
    "stack.append(\"hello\")\n",
    "stack.append(\"world\")\n",
    "stack.pop() # removes and returns the top item.\n",
    "\n",
    "# check the size\n",
    "len(stack)\n",
    "\n",
    "# check the last element\n",
    "stack[-1]"
   ]
  },
  {
   "cell_type": "code",
   "execution_count": 60,
   "id": "60dd0ebf",
   "metadata": {},
   "outputs": [
    {
     "data": {
      "text/plain": [
       "'world'"
      ]
     },
     "execution_count": 60,
     "metadata": {},
     "output_type": "execute_result"
    }
   ],
   "source": [
    "##### Queue Example ####\n",
    "# A queue is a data structure that follows the First In First Out (FIFO) principle\n",
    "# Option 1: Using a list\n",
    "queue = []\n",
    "queue.append(\"hello\")\n",
    "queue.append(\"world\")\n",
    "\n",
    "# the different part from the above stack\n",
    "queue.pop(0) # Remove from the front (index 0)\n",
    "\n",
    "# check the size\n",
    "len(queue)\n",
    "\n",
    "# check the last element\n",
    "queue[-1]\n",
    "\n",
    "# Option 2: Using collections.deque for better performance\n",
    "from collections import deque\n",
    "\n",
    "queue = deque()\n",
    "\n",
    "queue.append(\"hello\")\n",
    "queue.append(\"world\")\n",
    "\n",
    "# the different part from above\n",
    "queue.popleft()\n",
    "\n",
    "\n",
    "# check the size\n",
    "len(queue)\n",
    "\n",
    "# check the last element\n",
    "queue[-1]"
   ]
  },
  {
   "cell_type": "code",
   "execution_count": null,
   "id": "fb4f7b46",
   "metadata": {},
   "outputs": [],
   "source": [
    "####Map/Dictionary######\n",
    "####Option 1: using default map\n",
    "\n",
    "example_map = {}\n",
    "\n",
    "# put operation\n",
    "example_map[\"test\"] = \"helloworld\"\n",
    "\n",
    "# get operation\n",
    "example_map[\"test\"]  # throw error is key is not existed\n",
    "\n",
    "example_map.get(\"test\")  # return None if key is not existed\n",
    "\n",
    "##special usage:\n",
    "default_value = \"default\"\n",
    "example_map.get(\"test2\", default_value) # return default value if key is NOT exists\n",
    "\n",
    "# check if key exists in the map:\n",
    "if \"test\" in example_map:\n",
    "    print(\"exists!\")\n",
    "\n",
    "# loop dictionary\n",
    "for key in example_map:\n",
    "    print(example_map[key])\n",
    "\n",
    "# get all keys from maps:\n",
    "example_map.keys()\n",
    "\n",
    "# get all values:\n",
    "example_map.values()\n",
    "\n",
    "# get all items:\n",
    "example_map.items()\n",
    "\n",
    "# delete key,value pair from map:\n",
    "## option1\n",
    "del example_map[\"test\"]\n",
    "\n",
    "## option2, pop will also return the deleted value\n",
    "example_map.pop(\"test\")\n",
    "\n",
    "## equal method == to compare two dicts, whether both have the same key values pairs\n",
    "example_map1 = {\"a\": 1, \"b\": 2}\n",
    "example_map2 = {\"b\": 2, \"a\": 1}\n",
    "example_map1 == example_map2  # True, use\n",
    "\n",
    "\n",
    "## dict get or default If the key does not exist, it returns default (which is None if not specified).\n",
    "example_map.get(key, default = None)\n",
    "\n",
    "####Optional: Using defaultdict from collections for automatic default values\n",
    "from collections import defaultdict\n",
    "\n",
    "words = [\"apple\", \"banana\", \"apricot\", \"blueberry\", \"cherry\"]\n",
    "grouped = defaultdict(list)\n",
    "\n",
    "for word in words:\n",
    "    first_letter = word[0]\n",
    "    grouped[first_letter].append(word)\n",
    "\n",
    "print(grouped)"
   ]
  },
  {
   "cell_type": "code",
   "execution_count": null,
   "id": "e184409c",
   "metadata": {},
   "outputs": [
    {
     "ename": "KeyError",
     "evalue": "'test'",
     "output_type": "error",
     "traceback": [
      "\u001b[0;31m---------------------------------------------------------------------------\u001b[0m",
      "\u001b[0;31mKeyError\u001b[0m                                  Traceback (most recent call last)",
      "Cell \u001b[0;32mIn[1], line 18\u001b[0m\n\u001b[1;32m     14\u001b[0m \u001b[38;5;28mlen\u001b[39m(test_set)\n\u001b[1;32m     16\u001b[0m \u001b[38;5;66;03m# delete element, \u001b[39;00m\n\u001b[1;32m     17\u001b[0m \u001b[38;5;66;03m# Note: If the item to remove does not exist, remove() will raise an error.\u001b[39;00m\n\u001b[0;32m---> 18\u001b[0m \u001b[43mtest_set\u001b[49m\u001b[38;5;241;43m.\u001b[39;49m\u001b[43mremove\u001b[49m\u001b[43m(\u001b[49m\u001b[38;5;124;43m\"\u001b[39;49m\u001b[38;5;124;43mtest\u001b[39;49m\u001b[38;5;124;43m\"\u001b[39;49m\u001b[43m)\u001b[49m\n\u001b[1;32m     20\u001b[0m \u001b[38;5;66;03m# intersection\u001b[39;00m\n\u001b[1;32m     21\u001b[0m \u001b[38;5;66;03m# The intersection() method returns a set that contains the similarity between two or more sets.\u001b[39;00m\n\u001b[1;32m     22\u001b[0m \u001b[38;5;66;03m# set.intersection(set1, set2 ... etc)\u001b[39;00m\n\u001b[1;32m     23\u001b[0m x \u001b[38;5;241m=\u001b[39m {\u001b[38;5;124m\"\u001b[39m\u001b[38;5;124mapple\u001b[39m\u001b[38;5;124m\"\u001b[39m, \u001b[38;5;124m\"\u001b[39m\u001b[38;5;124mbanana\u001b[39m\u001b[38;5;124m\"\u001b[39m, \u001b[38;5;124m\"\u001b[39m\u001b[38;5;124mcherry\u001b[39m\u001b[38;5;124m\"\u001b[39m}\n",
      "\u001b[0;31mKeyError\u001b[0m: 'test'"
     ]
    }
   ],
   "source": [
    "####Set#######\n",
    "test_set = set()\n",
    "\n",
    "# with elements to initialize\n",
    "test_set2 = {\"apple\", \"banana\", \"cherry\"}\n",
    "\n",
    "test_set.add(\"helloworld\")\n",
    "\n",
    "# check if key exists:\n",
    "if \"test\" in test_set:\n",
    "    print(\"exists!\")\n",
    "\n",
    "# length:\n",
    "len(test_set)\n",
    "\n",
    "# delete element, \n",
    "# Note: If the item to remove does not exist, remove() will raise an error.\n",
    "test_set.remove(\"test\")\n",
    "\n",
    "# intersection\n",
    "# The intersection() method returns a set that contains the similarity between two or more sets.\n",
    "# set.intersection(set1, set2 ... etc)\n",
    "x = {\"apple\", \"banana\", \"cherry\"}\n",
    "y = {\"google\", \"microsoft\", \"apple\"}\n",
    "\n",
    "z = x.intersection(y)"
   ]
  },
  {
   "cell_type": "code",
   "execution_count": 10,
   "id": "1b287673",
   "metadata": {},
   "outputs": [
    {
     "name": "stdout",
     "output_type": "stream",
     "text": [
      "[2, 3, 8, 5]\n"
     ]
    }
   ],
   "source": [
    "import heapq\n",
    "\n",
    "# Create a list and transform it into a heap (min-heap by default)\n",
    "heap = [5, 3, 8, 1]\n",
    "heapq.heapify(heap)\n",
    "\n",
    "# Push a new element\n",
    "heapq.heappush(heap, 2)\n",
    "\n",
    "# Pop the smallest element\n",
    "smallest = heapq.heappop(heap)  # returns 1\n",
    "\n",
    "# Peek at the smallest element without popping\n",
    "min_element = heap[0]  # returns 2\n",
    "\n",
    "print(heap)  # Heap structure is maintained"
   ]
  },
  {
   "cell_type": "code",
   "execution_count": 53,
   "id": "e7943b2b",
   "metadata": {},
   "outputs": [
    {
     "name": "stdout",
     "output_type": "stream",
     "text": [
      "['welcome', 'to', 'the', 'jungle']\n",
      "0\n"
     ]
    },
    {
     "data": {
      "text/plain": [
       "True"
      ]
     },
     "execution_count": 53,
     "metadata": {},
     "output_type": "execute_result"
    }
   ],
   "source": [
    "###########String#########\n",
    "\n",
    "# split\n",
    "txt = \"welcome to the jungle\"\n",
    "\n",
    "x = txt.split()\n",
    "\n",
    "print(x)  \n",
    "\n",
    "# search\n",
    "sentence = 'hello'\n",
    "\n",
    "result = sentence.index('hel')\n",
    "print(result) #0\n",
    "\n",
    "#### check letters or numbers\n",
    "a.isalpha() or a.isdigit()"
   ]
  },
  {
   "cell_type": "code",
   "execution_count": null,
   "id": "19c1d91e",
   "metadata": {},
   "outputs": [],
   "source": [
    "############tuple########## tuple is immutable list\n",
    "my_tuple = (1, 2, 3)\n",
    "# accessing by index\n",
    "print(my_tuple[0])\n",
    "\n",
    "# for single tuple, need to have a comma in the end to differentiate parenthesis, like (1)\n",
    "single_element_tuple = (1,)\n",
    "\n",
    "# Unlike lists, tuples are immutable, meaning that you cannot change, add, or remove items after a tuple is defined.\n",
    "# so tuple could be used as hashkey\n",
    "\n",
    "# packing and uppacking\n",
    "my_tuple = (1, 2, 3)\n",
    "a, b, c = my_tuple\n",
    "print(a)  # Output: 1\n",
    "print(b)  # Output: 2\n",
    "print(c)  # Output: 3\n",
    "\n",
    "# index and count: \n",
    "#Tuples have fewer methods compared to lists because of their immutability. However, methods like index() and count() are available.\n",
    "my_tuple = (1, 2, 3, 2)\n",
    "print(my_tuple.index(2))  # Output: 1\n",
    "print(my_tuple.count(2))  # Output: 2"
   ]
  },
  {
   "cell_type": "code",
   "execution_count": null,
   "id": "426ce84e",
   "metadata": {},
   "outputs": [],
   "source": [
    "# How to convert a character to a integer and vice versa:\n",
    "# The chr() method returns a character (a string) from an integer (represents unicode code point of \n",
    "# the character).\n",
    "chr(97)   #'a'\n",
    "\n",
    "#The ord() function returns an integer representing the Unicode character.\n",
    "ord('a')  # 97   \n"
   ]
  },
  {
   "cell_type": "code",
   "execution_count": null,
   "id": "9aa899af",
   "metadata": {},
   "outputs": [],
   "source": [
    "# How to get the max and min number in python:\n",
    "#You will use float('inf') and float('-inf') to represent the max and min\n",
    "float('inf') ##---> positive infinity\n",
    "float('-inf') ##---> negative infinity"
   ]
  },
  {
   "cell_type": "code",
   "execution_count": null,
   "id": "558c83bd",
   "metadata": {},
   "outputs": [],
   "source": [
    "# How to generate random integer:\n",
    "random.randint(start, stop)\n",
    "# example Return a number between 3 and 9 (both included):\n",
    "\n",
    "import random\n",
    "print(random.randint(3, 9))"
   ]
  },
  {
   "cell_type": "code",
   "execution_count": null,
   "id": "39f80edb",
   "metadata": {},
   "outputs": [],
   "source": [
    "# how to make character to lowercase / uppercase\n",
    "char.lower()\n",
    "char.upper()"
   ]
  }
 ],
 "metadata": {
  "kernelspec": {
   "display_name": "Python 3",
   "language": "python",
   "name": "python3"
  },
  "language_info": {
   "codemirror_mode": {
    "name": "ipython",
    "version": 3
   },
   "file_extension": ".py",
   "mimetype": "text/x-python",
   "name": "python",
   "nbconvert_exporter": "python",
   "pygments_lexer": "ipython3",
   "version": "3.12.2"
  }
 },
 "nbformat": 4,
 "nbformat_minor": 5
}
